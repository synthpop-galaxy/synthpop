{
 "cells": [
  {
   "cell_type": "markdown",
   "id": "f08ca955-3013-416d-a64e-be70f642dcee",
   "metadata": {},
   "source": [
    "# SynthPop example use/tutorial notebook\n",
    "Written by Macy Huston\n",
    "\n",
    "Start by importing the package"
   ]
  },
  {
   "cell_type": "code",
   "execution_count": null,
   "id": "832a172a-b16f-4e9f-8cad-666d2c6b5eb4",
   "metadata": {},
   "outputs": [],
   "source": [
    "import synthpop \n",
    "import pandas as pd\n",
    "import matplotlib.pyplot as plt\n",
    "import numpy as np"
   ]
  },
  {
   "cell_type": "markdown",
   "id": "7043c853-dd7e-4105-bc5d-9d22737bf952",
   "metadata": {},
   "source": [
    "## Example 1\n",
    "\n",
    "#### Step 1: SynthPop model object setup\n",
    "\n",
    "In this step, we set up the configuration of our Galactic model.\n",
    "\n",
    "There are a number of ways you can initialize a SynthPop model. Let's take a look at the easiest one first, where you just use a specific config file. This is a great option for testing to make sure you can run SynthPop properly.\n",
    "\n",
    "In this case, any parameters not controlled by your config will be pulled from the _default.synthpop_conf.\n",
    "\n",
    "This step is very fast.\n",
    "\n",
    "The output will show the configuration files used, and a dictionary that could be copied into a new config file to fully recreate your model version."
   ]
  },
  {
   "cell_type": "code",
   "execution_count": null,
   "id": "c0882a3d-c255-4619-9faa-e8f1b7c14797",
   "metadata": {
    "scrolled": true
   },
   "outputs": [],
   "source": [
    "mod1 = synthpop.SynthPop('my_config.synthpop_conf')"
   ]
  },
  {
   "cell_type": "markdown",
   "id": "bb5a4cce-77cc-4706-bc44-f564c032a8b2",
   "metadata": {},
   "source": [
    "#### Step 2: Initialize populations\n",
    "\n",
    "In this step, SynthPop will process your configuration and initialize all of the modules for each of your Populations. \n",
    "\n",
    "This will take several seconds, possibly more if you have modules that e.g. load large extinction map files.\n",
    "\n",
    "The output will log each population as it gets read in from its file and initialized"
   ]
  },
  {
   "cell_type": "code",
   "execution_count": null,
   "id": "0235039a-9b8c-472a-8402-98783cf27530",
   "metadata": {
    "scrolled": true
   },
   "outputs": [],
   "source": [
    "mod1.init_populations()"
   ]
  },
  {
   "cell_type": "markdown",
   "id": "89859d7a-5e2b-4274-88a4-67d16d4ad280",
   "metadata": {},
   "source": [
    "#### Step 3: process your configured locations\n",
    "\n",
    "In this step, SynthPop will generate a catalog of stars for each sightline specified in your configration. \n",
    "\n",
    "This step's runtime depends on your solid angle, the density of the region of sky selected, and a number of other factors. It may take several seconds to several minutes, typically less than a minute for the use cases tested.\n",
    "\n",
    "The output will log the generation for each sightline and population therein."
   ]
  },
  {
   "cell_type": "code",
   "execution_count": null,
   "id": "48037609-dd21-4d2b-b0c1-2d0fa7032c57",
   "metadata": {
    "scrolled": true
   },
   "outputs": [],
   "source": [
    "mod1.process_all()"
   ]
  },
  {
   "cell_type": "markdown",
   "id": "9544d952-edb1-40f7-8546-1675bb91c048",
   "metadata": {},
   "source": [
    "#### Step 4: examine your catalog\n",
    "\n",
    "The output is a csv catalog of stars with their positions, velocities, properties, and photometry."
   ]
  },
  {
   "cell_type": "code",
   "execution_count": null,
   "id": "ce0089c0-4e4e-407d-9b26-05d09be4fb35",
   "metadata": {},
   "outputs": [],
   "source": [
    "cat1 = pd.read_csv('synthpop/outputfiles/default_synthpop/besancon_Robin2003_l1.000_b1.000.csv')\n",
    "cat1"
   ]
  },
  {
   "cell_type": "markdown",
   "id": "b5a7bac1-637b-466e-b777-ef5e2ef21906",
   "metadata": {},
   "source": [
    "## Example 2\n",
    "\n",
    "#### Step 1: SynthPop model object setup\n",
    "\n",
    "Here's another option for setting up your model, where you use your own default configuration and put in a few parameters directly. Here, we override the defaults for the extinction map and synthetic photometry, and give our output files a distinct name.\n",
    "\n",
    "I like to use this method when I'm testing how changing a single factor (like the extinction map) changes the output for a test sightline.\n",
    "\n",
    "Here, in addition to what we see above, we get a warning that some manditory parameters must be set in order to process the model. We'll get to that in a couple of steps."
   ]
  },
  {
   "cell_type": "code",
   "execution_count": null,
   "id": "d97eb406-8463-44db-81db-7e68fb92afa1",
   "metadata": {
    "scrolled": true
   },
   "outputs": [],
   "source": [
    "mod2 = synthpop.SynthPop('huston2025_defaults.synthpop_conf',\n",
    "                         extinction_map_kwargs={'name':'maps_from_dustmaps', \n",
    "                                                'dustmap_name': 'marshall'},\n",
    "                         chosen_bands = ['Bessell_U', 'Bessell_B', 'Bessell_V', 'Bessell_R', 'Bessell_I'],\n",
    "                         maglim = ['Bessell_I', 22, \"remove\"],\n",
    "                         post_processing_kwargs=[{\"name\": \"ProcessDarkCompactObjects\",\"remove\": False}],\n",
    "                         name_for_output='mod2test'\n",
    "                        )"
   ]
  },
  {
   "cell_type": "markdown",
   "id": "4f7c8a3b-0744-4fe0-a0b6-e79d91607c54",
   "metadata": {},
   "source": [
    "#### Step 2: initialize populations"
   ]
  },
  {
   "cell_type": "code",
   "execution_count": null,
   "id": "aea54947-3723-417e-9be5-10d9f59c889d",
   "metadata": {
    "scrolled": true
   },
   "outputs": [],
   "source": [
    "mod2.init_populations()"
   ]
  },
  {
   "cell_type": "markdown",
   "id": "60a96fc2-bc77-44a7-8cbe-5fd05d908144",
   "metadata": {},
   "source": [
    "#### Step 3: run catalogs we specify here\n",
    "\n",
    "Because we did not provide sight lines in our configuration, we must set them here. \n",
    "\n",
    "mod2.process_all() cannot be run\n",
    "\n",
    "Here, we capture the resulting DataFrame and distance distribution from the process_location function."
   ]
  },
  {
   "cell_type": "code",
   "execution_count": null,
   "id": "f49ccdb0-aaf5-451a-8350-6738020f8866",
   "metadata": {
    "scrolled": true
   },
   "outputs": [],
   "source": [
    "cat2, distr2 = mod2.process_location(l_deg=3, b_deg=-1, solid_angle=1e-3, solid_angle_unit='deg^2')\n"
   ]
  },
  {
   "cell_type": "markdown",
   "id": "21434eae-fc79-4f3e-8376-5d93ec042c00",
   "metadata": {},
   "source": [
    "#### Step 4: examine our output\n",
    "Let's take a look at our output catalog:"
   ]
  },
  {
   "cell_type": "code",
   "execution_count": null,
   "id": "b8104313-05a3-47c8-b599-0d294e900db5",
   "metadata": {},
   "outputs": [],
   "source": [
    "cat2"
   ]
  },
  {
   "cell_type": "markdown",
   "id": "32ca50f0-9c6c-4838-bf0e-9813418813c4",
   "metadata": {},
   "source": [
    "Here's the distribution of distances for the stars in our catalog. We see many stars in the near dist that are bright and close. We also pick up a number of the brighter stars in the dense central galactic bulge. Stars beyond this are generally too dim for our magnitude limit."
   ]
  },
  {
   "cell_type": "code",
   "execution_count": null,
   "id": "766aba17-6172-4966-8e60-c20417351a7c",
   "metadata": {},
   "outputs": [],
   "source": [
    "plt.hist(cat2.Dist, bins=np.arange(0,25,0.5));\n",
    "plt.xlabel('Distance (kpc)'); plt.ylabel('N stars')"
   ]
  },
  {
   "cell_type": "code",
   "execution_count": null,
   "id": "8c465e65-3854-4629-9e1f-078b4978a6b5",
   "metadata": {},
   "outputs": [],
   "source": []
  }
 ],
 "metadata": {
  "kernelspec": {
   "display_name": "Python 3 (ipykernel)",
   "language": "python",
   "name": "python3"
  },
  "language_info": {
   "codemirror_mode": {
    "name": "ipython",
    "version": 3
   },
   "file_extension": ".py",
   "mimetype": "text/x-python",
   "name": "python",
   "nbconvert_exporter": "python",
   "pygments_lexer": "ipython3",
   "version": "3.11.5"
  }
 },
 "nbformat": 4,
 "nbformat_minor": 5
}
