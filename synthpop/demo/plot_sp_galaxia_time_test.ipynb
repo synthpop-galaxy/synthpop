{
 "cells": [
  {
   "cell_type": "markdown",
   "id": "86be6567-3d15-4a25-915f-c6c246d65b28",
   "metadata": {},
   "source": [
    "## SynthPop vs. Galaxia Time Tests (plotting only)\n",
    "Plots for SynthPop paper I\n",
    "\n",
    "Macy Huston"
   ]
  },
  {
   "cell_type": "code",
   "execution_count": null,
   "id": "4694f8ac-f79b-4748-af02-457de24fd0ab",
   "metadata": {},
   "outputs": [],
   "source": [
    "import numpy as np\n",
    "import matplotlib.pyplot as plt\n",
    "import pandas as pd\n",
    "import subprocess"
   ]
  },
  {
   "cell_type": "code",
   "execution_count": null,
   "id": "3686ec72-bceb-430a-8899-1cf293552fcf",
   "metadata": {},
   "outputs": [],
   "source": [
    "# Load the time test results\n",
    "dat = pd.read_csv('sp_gal_time_tests.txt')\n",
    "dat"
   ]
  },
  {
   "cell_type": "code",
   "execution_count": null,
   "id": "adfcd3ad-fc5c-4aac-af53-b8a1dd835af0",
   "metadata": {},
   "outputs": [],
   "source": [
    "# Plot runtimes\n",
    "width=0.4\n",
    "plt.bar(dat.index, dat.synthpop_time,width=width, label='SP initialization')\n",
    "plt.bar(dat.index, dat.synthpop_time-dat.synthpop_time[0],width=width, label='SP generation')\n",
    "plt.bar(dat.index+width, dat.galaxia_time,width=width, label='Galaxia full sim.')\n",
    "plt.xticks(dat.index+width/2, [\"0\", r\"$10^{-5}$\",r\"$10^{-4}$\",r\"$10^{-3}$\",r\"$10^{-2}$\",r\"$10^{-1}$\"],fontsize=14)\n",
    "plt.xlabel(r'field size (deg.$^2$)')\n",
    "plt.ylabel(r'runtime (sec.)')\n",
    "plt.legend()\n",
    "plt.tight_layout()\n",
    "plt.yscale('log')\n",
    "plt.savefig('validation_figures/runtime.pdf')"
   ]
  },
  {
   "cell_type": "code",
   "execution_count": null,
   "id": "b16ccbd2-6ca2-41b7-b3d2-6f29b8746179",
   "metadata": {},
   "outputs": [],
   "source": [
    "# Plot stars/sec generation rate\n",
    "width=0.4\n",
    "plt.bar(dat.index, dat.synthpop_stars/(dat.synthpop_time-dat.synthpop_time[0]),width=width, label='SP generation',color='tab:orange')\n",
    "plt.bar(dat.index, dat.synthpop_stars/dat.synthpop_time,width=width, label='SP w/ initialization',color='tab:blue')\n",
    "plt.bar(dat.index+width, dat.galaxia_stars/dat.galaxia_time,width=width, label='Galaxia full sim.',color='tab:green')\n",
    "plt.xticks(dat.index+width/2, [\"0\", r\"$10^{-5}$\",r\"$10^{-4}$\",r\"$10^{-3}$\",r\"$10^{-2}$\",r\"$10^{-1}$\"],fontsize=14)\n",
    "plt.xlabel(r'field size (deg.$^2$)')\n",
    "plt.ylabel(r'speed (stars/sec.)')\n",
    "plt.legend(loc=2)\n",
    "plt.tight_layout()\n",
    "plt.yscale('log')\n",
    "plt.savefig('validation_figures/runspeed.pdf')"
   ]
  },
  {
   "cell_type": "code",
   "execution_count": null,
   "id": "9ef98d0c-c2c2-4ffc-ac3f-05d9ae57e3a2",
   "metadata": {},
   "outputs": [],
   "source": []
  }
 ],
 "metadata": {
  "kernelspec": {
   "display_name": "Python [conda env:astro-synthpop] *",
   "language": "python",
   "name": "conda-env-astro-synthpop-py"
  },
  "language_info": {
   "codemirror_mode": {
    "name": "ipython",
    "version": 3
   },
   "file_extension": ".py",
   "mimetype": "text/x-python",
   "name": "python",
   "nbconvert_exporter": "python",
   "pygments_lexer": "ipython3",
   "version": "3.11.0"
  }
 },
 "nbformat": 4,
 "nbformat_minor": 5
}
