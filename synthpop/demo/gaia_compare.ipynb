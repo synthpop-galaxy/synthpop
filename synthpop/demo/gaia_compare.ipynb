{
 "cells": [
  {
   "cell_type": "markdown",
   "id": "bccdbb6e-fc72-4326-80cc-e7ee577d39dd",
   "metadata": {},
   "source": [
    "# Code to generate the plots from SynthPop Paper 1, Section 7.1\n",
    "\n",
    "Notebook author: Macy Huston\n",
    "\n",
    "Building on work by: Jonas Klüter"
   ]
  },
  {
   "cell_type": "markdown",
   "id": "944ad2d8-9c65-4ca6-a8c4-ea70abff60fb",
   "metadata": {},
   "source": [
    "### Imports"
   ]
  },
  {
   "cell_type": "code",
   "execution_count": null,
   "id": "b774ef36-1625-4029-b10a-b8b390b19d6b",
   "metadata": {
    "tags": []
   },
   "outputs": [],
   "source": [
    "import numpy\n",
    "import matplotlib.pyplot as plt\n",
    "from matplotlib import gridspec\n",
    "import sys\n",
    "import numpy as np\n",
    "import pandas\n",
    "import pandas as pd\n",
    "\n",
    "sys.path.append('..')\n",
    "from synthpop_main import SynthPop\n",
    "from synthpop_utils import half_cone_angle_to_solidangle\n",
    "from synthpop_utils.coordinates_transformation import CoordTrans"
   ]
  },
  {
   "cell_type": "code",
   "execution_count": null,
   "id": "60f85f39-ac0e-4707-9ef2-5e669ebc6968",
   "metadata": {},
   "outputs": [],
   "source": [
    "%load_ext autoreload\n",
    "%autoreload 2"
   ]
  },
  {
   "cell_type": "code",
   "execution_count": null,
   "id": "9ef33d7e-769a-461d-a44d-5f4416d221fd",
   "metadata": {},
   "outputs": [],
   "source": [
    "from astropy.coordinates import SkyCoord, Galactic\n",
    "import astropy.units as u\n",
    "from astroquery.gaia import Gaia, GaiaClass\n",
    "from astroquery.vizier import Vizier\n",
    "\n",
    "GaiaModel = GaiaClass()\n",
    "GaiaModel.MAIN_GAIA_TABLE = \"gaiadr3.gaia_universe_model\"\n",
    "GaiaModel.ROW_LIMIT = 10000000\n",
    "Gaia.MAIN_GAIA_TABLE = \"gaiadr3.gaia_source\"\n",
    "Gaia.ROW_LIMIT = 10000000"
   ]
  },
  {
   "cell_type": "code",
   "execution_count": null,
   "id": "faac72c8-e829-4483-8455-6a59c15e125f",
   "metadata": {},
   "outputs": [],
   "source": [
    "# Set up bulge and far disk/halo test fields\n",
    "locs=[[2,-2],[30,30]]\n",
    "radii=[0.05*u.degree, 1*u.degree]\n",
    "solangs = [radius**2*np.pi for radius in radii]"
   ]
  },
  {
   "cell_type": "markdown",
   "id": "6c03bfd5-2f97-4b1b-bfa4-597d4e57024a",
   "metadata": {},
   "source": [
    "### SynthPop catalog generation - don't rerun location processing if not needed"
   ]
  },
  {
   "cell_type": "code",
   "execution_count": null,
   "id": "5a39186a-8fff-44ed-836a-c28b1dbb7569",
   "metadata": {
    "scrolled": true
   },
   "outputs": [],
   "source": [
    "mod1 = SynthPop(sun={\"x\": 8, \"y\": 0, \"z\":0.015, \"u\":12.75, \"v\":231.53, \"w\":7.10},\n",
    "                lsr={\"u_lsr\":0.0, \"v_lsr\":230.6, \"w_lsr\":0.0},\n",
    "                name_for_output=\"gums\", \n",
    "                model_name=\"GUMS_dr3\", max_distance=25,\n",
    "                extinction_map_kwargs={\"name\":\"gums\"}, \n",
    "                chosen_bands=[\"Gaia_G_EDR3\", \"Gaia_BP_EDR3\", \"Gaia_RP_EDR3\"],\n",
    "                maglim=[\"Gaia_G_EDR3\", 21, \"keep\"], lost_mass_option=2,\n",
    "                post_processing_kwargs={\"name\": \"ProcessDarkCompactObjects\"},\n",
    "                output_location=\"/u/mhuston/code/synthpop/outputfiles/gums_comp\",\n",
    "                output_file_type=\"hdf5\", overwrite=True, chunk_size=250000,\n",
    "                evolution_class={\"name\":\"MIST\", \"interpolator\":\"CharonInterpolator\"}\n",
    "               )\n",
    "mod2 = SynthPop(sun={\"x\": 8, \"y\": 0, \"z\":0.015, \"u\":12.75, \"v\":231.53, \"w\":7.10}, \n",
    "                lsr={\"u_lsr\":0.0, \"v_lsr\":230.6, \"w_lsr\":0.0},\n",
    "                name_for_output=\"gums_mod\", \n",
    "                model_name=\"GUMS_dr3_mod_dens\", max_distance=25,\n",
    "                extinction_map_kwargs={\"name\":\"gums\"}, \n",
    "                evolution_class={\"name\":\"MIST\", \"interpolator\":\"CharonInterpolator\"},\n",
    "                chosen_bands=[\"Gaia_G_EDR3\", \"Gaia_BP_EDR3\", \"Gaia_RP_EDR3\"],\n",
    "                maglim=[\"Gaia_G_EDR3\", 21, \"keep\"], lost_mass_option=2,\n",
    "                post_processing_kwargs={\"name\": \"ProcessDarkCompactObjects\"},\n",
    "                output_location=\"/u/mhuston/code/synthpop/outputfiles/gums_comp\",\n",
    "                output_file_type=\"hdf5\", overwrite=True, chunk_size=250000)"
   ]
  },
  {
   "cell_type": "code",
   "execution_count": null,
   "id": "fe0a0302-7432-40ba-a0b1-cd70bf370d7c",
   "metadata": {
    "scrolled": true
   },
   "outputs": [],
   "source": [
    "mod1.init_populations()\n",
    "mod2.init_populations()"
   ]
  },
  {
   "cell_type": "code",
   "execution_count": null,
   "id": "86befa52-28a6-43a5-93e9-d5ec0e07d450",
   "metadata": {
    "scrolled": true
   },
   "outputs": [],
   "source": [
    "# Catalogs only need generated once\n",
    "for i,loc in enumerate(locs):\n",
    "    mod1.process_location(l_deg=loc[0],b_deg=loc[1], solid_angle=solangs[i].value, solid_angle_unit=\"deg^2\")\n",
    "    mod2.process_location(l_deg=loc[0],b_deg=loc[1], solid_angle=solangs[i].value, solid_angle_unit=\"deg^2\")"
   ]
  },
  {
   "cell_type": "markdown",
   "id": "85a44d23-b199-42e8-842f-6a6ae2730c2f",
   "metadata": {},
   "source": [
    "### Gaia and GUMS queries - don't rerun if not needed"
   ]
  },
  {
   "cell_type": "code",
   "execution_count": null,
   "id": "c13fad06-866f-42f7-89d6-bc96f360233b",
   "metadata": {},
   "outputs": [],
   "source": [
    "comps = ['bulge','disk']\n",
    "for i,loc in enumerate(locs):\n",
    "    coord = SkyCoord(l=loc[0] * u.degree, b=loc[1] * u.degree, frame=Galactic)\n",
    "    print('Querying Gaia')\n",
    "    job = Gaia.cone_search_async(coord, radius=radii[i])\n",
    "    gaia_tab = job.get_results().to_pandas()[['ra','dec','phot_g_mean_mag','phot_bp_mean_mag','phot_rp_mean_mag','bp_rp',\n",
    "                                              \"classprob_dsc_combmod_star\"]]\n",
    "    print('Querying GUMS')\n",
    "    job = GaiaModel.cone_search_async(coord, radius=radii[i])\n",
    "    gums_tab = job.get_results().to_pandas()[['ra','dec','mag_g','mag_bp','mag_rp','mass','barycentric_distance','population','age','ag',\n",
    "                                             'feh', 'pmra','pmdec','radial_velocity']]\n",
    "    print('Saving to files')\n",
    "    gaia_tab[gaia_tab[\"classprob_dsc_combmod_star\"]>0.5].to_hdf('gums_compare/gaia_'+comps[i]+'.h5',\n",
    "                                                                key='data',index=False, mode='w')\n",
    "    gums_tab.to_hdf('gums_compare/gums_'+comps[i]+'.h5',key='data',index=False, mode='w')"
   ]
  },
  {
   "cell_type": "markdown",
   "id": "7b18538d-9645-4575-8f71-bd9c827d00bc",
   "metadata": {},
   "source": [
    "### Load saved SynthPop, Gaia, and GUMS catalogs\n",
    "For SynthPop, we use 1 and 2 to denote model versions (i.e. density modification). The letters b and d to represent bulge and disk fields, respectively."
   ]
  },
  {
   "cell_type": "code",
   "execution_count": null,
   "id": "4dd8cf02-2e24-4bd4-92ac-be335c366b68",
   "metadata": {},
   "outputs": [],
   "source": [
    "cat1b=pandas.read_hdf(\"/u/mhuston/code/synthpop/outputfiles/gums_comp_v2/GUMS_dr3_l2.000_b-2.000.h5\")\n",
    "cat2b=pandas.read_hdf(\"/u/mhuston/code/synthpop/outputfiles/gums_comp_v2/GUMS_dr3_mod_dens_l2.000_b-2.000.h5\")\n",
    "\n",
    "cat1d=pandas.read_hdf(\"/u/mhuston/code/synthpop/outputfiles/gums_comp_v2/GUMS_dr3_l30.000_b30.000.h5\")\n",
    "cat2d=pandas.read_hdf(\"/u/mhuston/code/synthpop/outputfiles/gums_comp_v2/GUMS_dr3_mod_dens_l30.000_b30.000.h5\")"
   ]
  },
  {
   "cell_type": "code",
   "execution_count": null,
   "id": "d8017763-d730-41c3-97c4-4e1eb3cd860c",
   "metadata": {},
   "outputs": [],
   "source": [
    "gaia_tab_b = pandas.read_hdf('gums_compare/gaia_bulge.h5',key='data')\n",
    "gums_tab_b = pandas.read_hdf('gums_compare/gums_bulge.h5',key='data')\n",
    "\n",
    "gaia_tab_d = pandas.read_hdf('gums_compare/gaia_disk.h5',key='data')\n",
    "gums_tab_d = pandas.read_hdf('gums_compare/gums_disk.h5',key='data')"
   ]
  },
  {
   "cell_type": "markdown",
   "id": "8c245991-5907-44ba-8fea-3ab740222f1d",
   "metadata": {},
   "source": [
    "### Plot star counts by population as a function of distance"
   ]
  },
  {
   "cell_type": "code",
   "execution_count": null,
   "id": "71aa5ff0-dc4e-410d-b65d-8be12a5c38f0",
   "metadata": {},
   "outputs": [],
   "source": [
    "fs = (9,6)\n",
    "xlab,ylab = r'distance (kpc)', r'stellar density (kpc$^{-3}$)'\n",
    "labs=['GUMS (G<20)','SP (non-norm) (G<20)','SynthPop (G<20)','SynthPop (all stars) ', 'gaia']"
   ]
  },
  {
   "cell_type": "code",
   "execution_count": null,
   "id": "b3ea9af9-0836-48b6-b45d-6e83b76bb190",
   "metadata": {},
   "outputs": [],
   "source": [
    "bins=np.arange(0,25.01,0.5)\n",
    "plt.figure(figsize=fs)\n",
    "plt.title('bulge stars in inner field')\n",
    "plt.hist(cat2b[(cat2b['pop']>-0.5) & (cat2b['pop']<0.5)].Dist,bins=bins,histtype='step',color='grey',label=labs[3])\n",
    "plt.hist(gums_tab_b[(gums_tab_b.mag_g<20) & (gums_tab_b.population==4)].barycentric_distance/1000,bins=bins,histtype='step',color='r',label=labs[0])\n",
    "plt.hist(cat1b[(cat1b.Gaia_G_EDR3<20) & (cat1b['pop']>-0.5) & (cat1b['pop']<0.5)].Dist,bins=bins,histtype='step',color='b',label=labs[1])\n",
    "plt.hist(cat2b[(cat2b.Gaia_G_EDR3<20) & (cat2b['pop']>-0.5) & (cat2b['pop']<0.5)].Dist,bins=bins,histtype='step',color='g',label=labs[2])\n",
    "plt.yscale('log')\n",
    "plt.xlim(0,15)\n",
    "plt.legend()\n",
    "plt.ylabel(ylab); plt.xlabel(xlab)\n",
    "plt.savefig('figs/dens_bulge.pdf')"
   ]
  },
  {
   "cell_type": "code",
   "execution_count": null,
   "id": "b11f0a18-ad81-4288-87ab-c3cbf25ddf45",
   "metadata": {},
   "outputs": [],
   "source": [
    "bins=np.arange(0,25.01,0.5)\n",
    "plt.figure(figsize=fs)\n",
    "plt.title('thin disk stars in inner field')\n",
    "plt.hist(cat2b[(cat2b['pop']>0.5) & (cat2b['pop']<7.5)].Dist,bins=bins,histtype='step',color='grey',label=labs[3])\n",
    "plt.hist(gums_tab_b[(gums_tab_b.mag_g<20) & (gums_tab_b.population==1)].barycentric_distance/1000,bins=bins,histtype='step',color='r',label=labs[0])\n",
    "plt.hist(cat1b[(cat1b.Gaia_G_EDR3<20) & (cat1b['pop']>0.5) & (cat1b['pop']<7.5)].Dist,bins=bins,histtype='step',color='b',label=labs[1])\n",
    "plt.hist(cat2b[(cat2b.Gaia_G_EDR3<20) & (cat2b['pop']>0.5) & (cat2b['pop']<7.5)].Dist,bins=bins,histtype='step',color='g',label=labs[2])\n",
    "plt.yscale('log')\n",
    "plt.xlim(0,25)\n",
    "plt.legend(loc='upper right')\n",
    "plt.ylabel(ylab); plt.xlabel(xlab)\n",
    "plt.savefig('figs/dens_thin.pdf')"
   ]
  },
  {
   "cell_type": "code",
   "execution_count": null,
   "id": "a0c3175c-4348-44cb-83ec-ed594004c6c3",
   "metadata": {},
   "outputs": [],
   "source": [
    "bins=np.arange(0,25.01,0.5)\n",
    "plt.figure(figsize=fs)\n",
    "plt.title('halo stars in outer field')\n",
    "plt.hist(cat2d[(cat2d['pop']>7.5) & (cat2d['pop']<8.5)].Dist,bins=bins,histtype='step',color='grey',label=labs[3])\n",
    "plt.hist(gums_tab_d[(gums_tab_d.mag_g<20) & (gums_tab_d.population==3)].barycentric_distance/1000,bins=bins,histtype='step',color='r',label=labs[0])\n",
    "plt.hist(cat1d[(cat1d.Gaia_G_EDR3<20) & (cat1d['pop']>7.5) & (cat1d['pop']<8.5)].Dist,bins=bins,histtype='step',color='b',label=labs[1])\n",
    "plt.hist(cat2d[(cat2d.Gaia_G_EDR3<20) & (cat2d['pop']>7.5) & (cat2d['pop']<8.5)].Dist,bins=bins,histtype='step',color='g',label=labs[2])\n",
    "plt.yscale('log')\n",
    "plt.xlim(0,25)\n",
    "plt.legend(loc='upper right')\n",
    "plt.ylabel(ylab); plt.xlabel(xlab)\n",
    "plt.savefig('figs/dens_halo.pdf')"
   ]
  },
  {
   "cell_type": "code",
   "execution_count": null,
   "id": "759f8b71-5a10-4b44-9d47-5eeb79c8f2cf",
   "metadata": {},
   "outputs": [],
   "source": [
    "bins=np.arange(0,25.01,0.5)\n",
    "plt.figure(figsize=fs)\n",
    "plt.title('thick disk stars in outer field')\n",
    "plt.hist(cat2d[(cat2d['pop']>8.5) & (cat2d['pop']<10.5)].Dist,bins=bins,histtype='step',color='grey',label=labs[3])\n",
    "plt.hist(gums_tab_d[(gums_tab_d.mag_g<20) & (gums_tab_d.population==2)].barycentric_distance/1000,bins=bins,histtype='step',color='r',label=labs[0])\n",
    "plt.hist(cat1d[(cat1d.Gaia_G_EDR3<20) & (cat1d['pop']>8.5) & (cat1d['pop']<10.5)].Dist,bins=bins,histtype='step',color='b',label=labs[1])\n",
    "plt.hist(cat2d[(cat2d.Gaia_G_EDR3<20) & (cat2d['pop']>8.5) & (cat2d['pop']<10.5)].Dist,bins=bins,histtype='step',color='g',label=labs[2])\n",
    "plt.yscale('log')\n",
    "plt.xlim(0,25)\n",
    "plt.legend()\n",
    "plt.ylabel(ylab); plt.xlabel(xlab)\n",
    "plt.savefig('figs/dens_thick.pdf')"
   ]
  },
  {
   "cell_type": "markdown",
   "id": "5dc121a6-a4b4-4a46-a0b0-a0052da1c3f2",
   "metadata": {},
   "source": [
    "### Plot luminosity functions"
   ]
  },
  {
   "cell_type": "code",
   "execution_count": null,
   "id": "a293ec92-7014-44ea-a0e8-5a76210ab7ca",
   "metadata": {},
   "outputs": [],
   "source": [
    "bins = np.arange(10,21.3,0.25)\n",
    "gums_ct,_ = np.histogram(gums_tab_d.mag_g,bins=bins)\n",
    "gaia_ct,_ = np.histogram(gaia_tab_d.phot_g_mean_mag, bins=bins)\n",
    "sp0_ct,_ = np.histogram(cat1d.Gaia_G_EDR3, bins=bins)\n",
    "sp1_ct,_ = np.histogram(cat2d.Gaia_G_EDR3, bins=bins)\n",
    "x = bins[:-1]\n",
    "labs=['GUMS','','SynthPop','','Gaia']\n",
    "\n",
    "fig, axs = plt.subplots(nrows=2,ncols=1,gridspec_kw=dict(height_ratios=[2.5,1],hspace=0.05), figsize=(8,6))\n",
    "axs[0].step(x, gaia_ct,label=labs[4], color='k',where='post')\n",
    "axs[0].step(x, gums_ct,label=labs[0], color='r',where='post')\n",
    "#axs[0].step(x, sp0_ct,label=labs[1], color='b',where='post')\n",
    "axs[0].step(x, sp1_ct,label=labs[2], color='g',where='post')\n",
    "axs[0].legend()\n",
    "\n",
    "axs[1].axhline(1, color='gray')\n",
    "axs[1].step(x, sp1_ct/gums_ct,where='post',color='r',linestyle='--', label=r\"N$_{\\rm SynthPop}$/N$_{\\rm GUMS}$\")\n",
    "axs[1].step(x, sp1_ct/gaia_ct,where='post',color='k',linestyle='--', label=r\"N$_{\\rm SynthPop}$/N$_{\\rm Gaia}$\")\n",
    "axs[1].set_ylim(0,2.5); axs[1].set_yticks([0,1,2])\n",
    "axs[1].legend(loc=(0.6,0.95),framealpha=0.95)\n",
    "\n",
    "axs[0].set_yscale('log')\n",
    "axs[0].set_title('Outer field')\n",
    "axs[0].set_xlim(10,21); axs[1].set_xlim(10,21); axs[0].set_xticks([])\n",
    "axs[1].set_xlabel(r'm$_G$')\n",
    "axs[0].set_ylabel('N stars')\n",
    "fig.savefig('figs/lf_outer.pdf')"
   ]
  },
  {
   "cell_type": "code",
   "execution_count": null,
   "id": "2c5bc040-3e5d-4da9-ae5e-4fa449a0dcf4",
   "metadata": {},
   "outputs": [],
   "source": [
    "bins = np.arange(13,21.3,0.25)\n",
    "gums_ct,_ = np.histogram(gums_tab_b.mag_g,bins=bins)\n",
    "gaia_ct,_ = np.histogram(gaia_tab_b.phot_g_mean_mag, bins=bins)\n",
    "sp0_ct,_ = np.histogram(cat1b.Gaia_G_EDR3, bins=bins)\n",
    "sp1_ct,_ = np.histogram(cat2b.Gaia_G_EDR3, bins=bins)\n",
    "x = bins[:-1]\n",
    "labs=['GUMS','','SynthPop','','Gaia']\n",
    "\n",
    "fig, axs = plt.subplots(nrows=2,ncols=1,gridspec_kw=dict(height_ratios=[2.5,1],hspace=0.05), figsize=(8,6))\n",
    "axs[0].step(x, gaia_ct,label=labs[4], color='k',where='post')\n",
    "axs[0].step(x, gums_ct,label=labs[0], color='r',where='post')\n",
    "#axs[0].step(x, sp0_ct,label=labs[1], color='b',where='post')\n",
    "axs[0].step(x, sp1_ct,label=labs[2], color='g',where='post')\n",
    "axs[0].legend()\n",
    "\n",
    "axs[1].axhline(1, color='gray')\n",
    "axs[1].step(x, (sp1_ct/gums_ct),where='post',color='r',linestyle='--', label=r\"N$_{\\rm SynthPop}$/N$_{\\rm GUMS}$\")\n",
    "axs[1].step(x, (sp1_ct/gaia_ct),where='post',color='k',linestyle='--', label=r\"N$_{\\rm SynthPop}$/N$_{\\rm Gaia}$\")\n",
    "axs[1].set_ylim(0,5); axs[1].set_yticks([0,2,4])\n",
    "axs[1].legend(loc=(0.6,0.95),framealpha=0.95)\n",
    "\n",
    "axs[0].set_yscale('log')\n",
    "axs[0].set_title('Inner field')\n",
    "axs[0].set_xlim(13,21); axs[1].set_xlim(13,21); axs[0].set_xticks([])\n",
    "axs[1].set_xlabel(r'm$_G$')\n",
    "axs[0].set_ylabel('N stars')\n",
    "fig.savefig('figs/lf_inner.pdf')"
   ]
  },
  {
   "cell_type": "markdown",
   "id": "d73bd0c8-c3c9-4277-8f71-ccb8872962b8",
   "metadata": {},
   "source": [
    "### Color-magnitude diagrams"
   ]
  },
  {
   "cell_type": "code",
   "execution_count": null,
   "id": "903f2a5f-9505-4717-92e3-fbbdf542c7ce",
   "metadata": {},
   "outputs": [],
   "source": [
    "extlaw = mod1.populations[0].extinction\n",
    "AG_A0 = extlaw.Alambda_Aref(0.673)/extlaw.Alambda_Aref(0.55)\n",
    "ABP_A0 = extlaw.Alambda_Aref(0.532)/extlaw.Alambda_Aref(0.55)\n",
    "ARP_A0 = extlaw.Alambda_Aref(0.797)/extlaw.Alambda_Aref(0.55)\n",
    "ABP_AG = ABP_A0/AG_A0\n",
    "ARP_AG = ARP_A0/AG_A0"
   ]
  },
  {
   "cell_type": "code",
   "execution_count": null,
   "id": "5aafe8cb-eebe-450a-a359-89809d0d875e",
   "metadata": {},
   "outputs": [],
   "source": [
    "fig, axs = plt.subplots(nrows=2,ncols=3,figsize=(15,10),sharey='row',sharex=True)\n",
    "samp=4\n",
    "cat2d_s = cat2d[::samp]\n",
    "gums_tab_s = gums_tab_d[::samp]\n",
    "gaia_tab_s = gaia_tab_d[::samp]\n",
    "axs[0][0].plot(cat2d_s.Gaia_BP_EDR3-cat2d_s.Gaia_RP_EDR3, cat2d_s.Gaia_G_EDR3, 'k,')\n",
    "axs[0][1].plot(gums_tab_s.mag_bp-gums_tab_s.mag_rp, gums_tab_s.mag_g,'k,')\n",
    "axs[0][2].plot(gaia_tab_s.phot_bp_mean_mag-gaia_tab_s.phot_rp_mean_mag, gaia_tab_s.phot_g_mean_mag,'k,')\n",
    "fig.delaxes(axs[1][2])\n",
    "\n",
    "axs[1][0].plot(cat2d_s.Gaia_BP_EDR3-cat2d_s.Gaia_RP_EDR3 - (cat2d_s.A0*ABP_A0 - cat2d_s.A0*ARP_A0), \n",
    "                cat2d_s.Gaia_G_EDR3 - 5*np.log10(cat2d_s.Dist*100) - cat2d_s.A0*AG_A0, 'k,')\n",
    "axs[1][1].plot(gums_tab_s.mag_bp-gums_tab_s.mag_rp - (gums_tab_s.ag*ABP_AG-gums_tab_s.ag*ARP_AG), \n",
    "               gums_tab_s.mag_g - 5*np.log10(gums_tab_s.barycentric_distance/10) - gums_tab_s.ag,'k,')\n",
    "\n",
    "axs[0][0].set_ylim(21,11.5); axs[0][0].set_xlim(0,3); axs[1][0].set_ylim(12.5,-1)\n",
    "axs[0][0].set_ylabel(r'm$_G$')\n",
    "axs[1][0].set_ylabel(r'M$_G$')\n",
    "for ax in axs[0]: ax.set_xlabel(r'm$_{BP}$ - m$_{RP}$')\n",
    "for ax in axs[1]: ax.set_xlabel(r'M$_{BP}$ - M$_{RP}$')\n",
    "axs[0][0].set_title('SynthPop'); axs[0][1].set_title('Gaia Universe Model'); axs[0][2].set_title('Gaia DR3')\n",
    "axs[1][0].set_xticks([0,1,2,3])\n",
    "plt.tight_layout()\n",
    "plt.savefig('figs/cmd_compare.pdf')"
   ]
  },
  {
   "cell_type": "markdown",
   "id": "33ff360d-cd1e-4886-9394-63c75515dc3d",
   "metadata": {},
   "source": [
    "### A quick look at additional initial stellar properties"
   ]
  },
  {
   "cell_type": "code",
   "execution_count": null,
   "id": "520ae1fa-9463-4f84-9263-01d5433dc937",
   "metadata": {},
   "outputs": [],
   "source": [
    "# The ages of the GUMS stars are discretized\n",
    "np.unique(gums_tab_d.age)"
   ]
  },
  {
   "cell_type": "code",
   "execution_count": null,
   "id": "6be7fae9-03c9-44db-a97a-508a015e3d02",
   "metadata": {},
   "outputs": [],
   "source": [
    "bins=np.arange(0,25.01,0.5)\n",
    "plt.figure(figsize=fs)\n",
    "plt.title('ages')\n",
    "#plt.hist(cat2d[(cat2d['pop']>8.5) & (cat2d['pop']<10.5)].Dist,bins=bins,histtype='step',color='grey',label=labs[3])\n",
    "plt.hist(gums_tab_d[(gums_tab_d.mag_g<20)].age,bins=bins,histtype='step',color='r',label=labs[0])\n",
    "#plt.hist(cat1d[(cat1d.Gaia_G_EDR3<20) & (cat1d['pop']>8.5) & (cat1d['pop']<10.5)].age,bins=bins,histtype='step',color='b',label=labs[1])\n",
    "plt.hist(cat2d[(cat2d.Gaia_G_EDR3<20)].age,bins=bins,histtype='step',color='g',label=labs[2])\n",
    "plt.yscale('log')\n",
    "#plt.xlim(0,25)\n",
    "plt.legend()\n",
    "plt.savefig('figs/ages.pdf')"
   ]
  },
  {
   "cell_type": "code",
   "execution_count": null,
   "id": "25cd15fd-3aa7-40d9-81e0-9c3ab6938f96",
   "metadata": {},
   "outputs": [],
   "source": [
    "bins=np.arange(-4,1.01,0.25)\n",
    "plt.figure(figsize=fs)\n",
    "plt.title('metallicity')\n",
    "#plt.hist(cat2d[(cat2d['pop']>8.5) & (cat2d['pop']<10.5)].Dist,bins=bins,histtype='step',color='grey',label=labs[3])\n",
    "plt.hist(gums_tab_d[(gums_tab_d.mag_g<20)].feh,bins=bins,histtype='step',color='r',label=labs[0])\n",
    "#plt.hist(cat1d[(cat1d.Gaia_G_EDR3<20) & (cat1d['pop']>8.5) & (cat1d['pop']<10.5)].age,bins=bins,histtype='step',color='b',label=labs[1])\n",
    "plt.hist(cat2d[(cat2d.Gaia_G_EDR3<20)]['Fe/H_evolved'],bins=bins,histtype='step',color='g',label=labs[2])\n",
    "plt.hist(cat2d[(cat2d.Gaia_G_EDR3<20)]['Fe/H_initial'],bins=bins,histtype='step',color='b',label=labs[2])\n",
    "plt.yscale('log')\n",
    "plt.xlim(-4,1)\n",
    "plt.legend()\n",
    "plt.savefig('figs/metallicies.pdf')"
   ]
  },
  {
   "cell_type": "code",
   "execution_count": null,
   "id": "11fdabb6-6bf4-4428-b326-2c731b6c06fe",
   "metadata": {},
   "outputs": [],
   "source": []
  }
 ],
 "metadata": {
  "kernelspec": {
   "display_name": "Python [conda env:astro-synthpop] *",
   "language": "python",
   "name": "conda-env-astro-synthpop-py"
  },
  "language_info": {
   "codemirror_mode": {
    "name": "ipython",
    "version": 3
   },
   "file_extension": ".py",
   "mimetype": "text/x-python",
   "name": "python",
   "nbconvert_exporter": "python",
   "pygments_lexer": "ipython3",
   "version": "3.11.0"
  }
 },
 "nbformat": 4,
 "nbformat_minor": 5
}
