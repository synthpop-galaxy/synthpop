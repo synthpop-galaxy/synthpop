{
 "cells": [
  {
   "cell_type": "markdown",
   "id": "15810d79-63de-4739-8838-656bfd839407",
   "metadata": {},
   "source": [
    "# Validation - stellar evolution\n",
    "\n",
    "Generates the plots presented in SynthPop Paper 1, Section 6.3\n",
    "\n",
    "Macy Huston & Jonas Klüter"
   ]
  },
  {
   "cell_type": "code",
   "execution_count": null,
   "id": "beda538f-83e9-4251-bdbf-184c03d21168",
   "metadata": {},
   "outputs": [],
   "source": [
    "# Imports\n",
    "import sys\n",
    "import os\n",
    "import numpy as np\n",
    "import pandas\n",
    "import matplotlib.pyplot as plt\n",
    "import pandas as pd\n",
    "from synthpop.modules.evolution.mist import MIST\n",
    "from mpl_toolkits.axes_grid1.inset_locator import inset_axes\n",
    "\n",
    "columns = [\"EEP\",\"UBVRIplus\", \"log10_isochrone_age_yr\", \"initial_mass\", \"[Fe/H]_init\", \"phase\", 'star_mass']\n",
    "mist = MIST(columns)\n",
    "mist4 = mist.read_csv(\"mist_web_interpolator/pop4.cmd\")\n",
    "mist5 = mist.read_csv(\"mist_web_interpolator/pop5.cmd\")\n",
    "mist6 = mist.read_csv(\"mist_web_interpolator/pop6.cmd\")\n",
    "\n",
    "import synthpop\n",
    "\n",
    "def get_color_iter(n):\n",
    "    return iter(['red', 'green', 'blue', 'gold'])"
   ]
  },
  {
   "cell_type": "code",
   "execution_count": null,
   "id": "48e50907-aa39-425e-896a-3b47dff50e8d",
   "metadata": {
    "scrolled": true
   },
   "outputs": [],
   "source": [
    "# SynthPop Configuration\n",
    "config = {\n",
    "    \"name_for_output\":\"validation_model\",\n",
    "    \"model_name\": \"validation_model\",\n",
    "    \"l_set\": [0,90, 12.17, 39.14],\n",
    "    \"max_distance\":25,\n",
    "    \"b_set\":[0, 0, 5.37, 8.53],\n",
    "    \"l_set_type\":\"pairs\",\n",
    "    \"b_set_type\":\"pairs\",\n",
    "    \"solid_angle\":[1e-4,3e-2,1e-3, 1e-2],\n",
    "    \"extinction_map_kwargs\": {\n",
    "        \"name\":\"MapsFromDustmaps\", \"dustmap_name\":\"marshall\"\n",
    "        },\n",
    "    \"output_file_type\":\"hdf5\",\n",
    "    \"obsmag\": False,\n",
    "    \"chosen_bands\": [\"Bessell_B\", \"Bessell_V\", \"Bessell_I\"],\n",
    "    \"maglim\": [\"Bessell_V\", 99999, \"keep\"],\n",
    "    \"lost_mass_option\": 1,\n",
    "    \"overwrite\":True\n",
    "}\n",
    "\n",
    "# set up SynthPop model\n",
    "model = synthpop.SynthPop(**config)\n",
    "# initialize populations\n",
    "model.init_populations()"
   ]
  },
  {
   "cell_type": "code",
   "execution_count": null,
   "id": "a8c608d6-baf4-4ee3-950f-7132a8d0817a",
   "metadata": {
    "scrolled": true
   },
   "outputs": [],
   "source": [
    "# SynthPop Catalog Generation\n",
    "\n",
    "# place to collect the data from different line of sights\n",
    "data = {}\n",
    "# loop over all location\n",
    "for i,loc in enumerate(model.get_iter_loc()):\n",
    "    # run synthpop for the given location and solid angle\n",
    "    data_loc, distribution = model.process_location(\n",
    "        *loc, model.parms.solid_angle[i], model.parms.solid_angle_unit,\n",
    "        save_data=False)\n",
    "\n",
    "    # store data in the dictionary\n",
    "    data[loc] = data_loc\n",
    "combined_data = pandas.concat([d for d in data.values()])"
   ]
  },
  {
   "cell_type": "code",
   "execution_count": null,
   "id": "f997a323-de91-4ba5-a149-0f22e2f7ecb3",
   "metadata": {},
   "outputs": [],
   "source": [
    "ccycle = ['#377eb8', '#ff7f00', '#4daf4a', '#f781bf', '#a65628', '#984ea3', '#999999', '#e41a1c', '#dede00']"
   ]
  },
  {
   "cell_type": "code",
   "execution_count": null,
   "id": "9f1c94b4-bb99-4e5c-bd79-e1d5a9ece117",
   "metadata": {},
   "outputs": [],
   "source": [
    "# Collect the stars for each population we are examining\n",
    "pop4 = combined_data[combined_data['pop']==4]\n",
    "pop5 = combined_data[combined_data['pop']==5]\n",
    "pop6 = combined_data[combined_data['pop']==6]"
   ]
  },
  {
   "cell_type": "code",
   "execution_count": null,
   "id": "b0f55894-faf6-4790-9d30-d3af7084b12c",
   "metadata": {},
   "outputs": [],
   "source": [
    "# Plot the CMD of our stars and the MIST web interpolator isochrones\n",
    "plt.figure(figsize=(6.5,6.5))\n",
    "plt.plot(mist4.Bessell_B - mist4.Bessell_V, mist4.Bessell_V, c=ccycle[0], linewidth=6, alpha=0.25, label='[Fe/H]=-0.50 dex, Age=10.00 Gyr')\n",
    "plt.plot(pop4.Bessell_B - pop4.Bessell_V, pop4.Bessell_V, c=ccycle[0], marker='.', linestyle='none', markersize=2)\n",
    "plt.plot(mist5.Bessell_B - mist5.Bessell_V, mist5.Bessell_V, c=ccycle[1], linewidth=6, alpha=0.25, label='[Fe/H]=-0.32 dex, Age=9.135 Gyr')\n",
    "plt.plot(pop5.Bessell_B - pop5.Bessell_V, pop5.Bessell_V, c=ccycle[1], marker='.', linestyle='none', markersize=2)\n",
    "plt.plot(mist6.Bessell_B - mist6.Bessell_V, mist6.Bessell_V, c=ccycle[2], linewidth=6, alpha=0.25, label='[Fe/H]=-1.14 dex, Age=4.230 Gyr')\n",
    "plt.plot(pop6.Bessell_B - pop6.Bessell_V, pop6.Bessell_V, c=ccycle[2], marker='.', linestyle='none', markersize=2)\n",
    "plt.legend(loc=4)\n",
    "plt.xlabel('B-V [mag.]'); plt.ylabel('V [mag.]')\n",
    "plt.ylim(20,-5.5)\n",
    "plt.tight_layout()\n",
    "plt.savefig('validation_figures/evolution_cmd.png')"
   ]
  },
  {
   "cell_type": "code",
   "execution_count": null,
   "id": "bf202248-e728-4634-b77d-0bb12f3794cd",
   "metadata": {},
   "outputs": [],
   "source": []
  }
 ],
 "metadata": {
  "kernelspec": {
   "display_name": "Python [conda env:astro-synthpop] *",
   "language": "python",
   "name": "conda-env-astro-synthpop-py"
  },
  "language_info": {
   "codemirror_mode": {
    "name": "ipython",
    "version": 3
   },
   "file_extension": ".py",
   "mimetype": "text/x-python",
   "name": "python",
   "nbconvert_exporter": "python",
   "pygments_lexer": "ipython3",
   "version": "3.11.0"
  }
 },
 "nbformat": 4,
 "nbformat_minor": 5
}
