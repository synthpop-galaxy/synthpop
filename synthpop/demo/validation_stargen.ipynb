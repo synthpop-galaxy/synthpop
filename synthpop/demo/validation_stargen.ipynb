{
 "cells": [
  {
   "cell_type": "markdown",
   "id": "b92ac79f-bef3-4ab7-b0c2-908998704711",
   "metadata": {},
   "source": [
    "# Validation - Star positions + kinematics\n",
    "\n",
    "Generates the plots presented in SynthPop Paper 1, Section 6.2\n",
    "\n",
    "Macy Huston & Jonas Klüter"
   ]
  },
  {
   "cell_type": "code",
   "execution_count": null,
   "id": "832ced52-916a-4791-a3e7-4a8403396f23",
   "metadata": {},
   "outputs": [],
   "source": [
    "import sys\n",
    "import os\n",
    "\n",
    "import numpy as np\n",
    "import synthpop\n",
    "import matplotlib.pyplot as plt\n",
    "import pandas as pd"
   ]
  },
  {
   "cell_type": "markdown",
   "id": "4452d42f-615b-41ef-b197-e33ff13d9850",
   "metadata": {},
   "source": [
    "### Generate a few test catalogs"
   ]
  },
  {
   "cell_type": "code",
   "execution_count": null,
   "id": "8d1a3be6-8365-4bad-9a44-df463b62b96f",
   "metadata": {
    "scrolled": true
   },
   "outputs": [],
   "source": [
    "# Set up model object \n",
    "model = synthpop.SynthPop(model_name='besancon_Robin2003',name_for_output='Besancon_validation',obsmag=False, \n",
    "                        maglim=['2MASS_Ks', 999999, 'keep'], extinction_map_kwargs={'name':'NoExtinction'}, \n",
    "                        l_set=[0,90, 12.17, 39.14], b_set=[0, 0, 5.37, 8.53], l_set_type=\"pairs\", b_set_type=\"pairs\",\n",
    "                        solid_angle=[1e-3,3e-1,6e-2, 6e-1], solid_angle_unit='deg^2',\n",
    "                        max_distance=25, overwrite=True, output_file_type='hdf5')\n",
    "model.init_populations()"
   ]
  },
  {
   "cell_type": "code",
   "execution_count": null,
   "id": "e8bc365a-e12e-48df-bec2-456acafc4793",
   "metadata": {
    "scrolled": true
   },
   "outputs": [],
   "source": [
    "# Only re-run if needed - catalog generation\n",
    "if True:\n",
    "    for i,loc in enumerate(model.get_iter_loc()):\n",
    "        # run synthpop for the given location and solid angle\n",
    "        model.process_location(*loc, model.parms.solid_angle[i], model.parms.solid_angle_unit,save_data=True)"
   ]
  },
  {
   "cell_type": "code",
   "execution_count": null,
   "id": "6599724c-a040-4683-b445-e4a95f99fd53",
   "metadata": {},
   "outputs": [],
   "source": [
    "# Catalog load\n",
    "data0 = pd.read_hdf(\"/u/mhuston/code/synthpop/synthpop/outputfiles/Besancon_validation/besancon_Robin2003_l0.000_b0.000.h5\")\n",
    "data1 = pd.read_hdf(\"/u/mhuston/code/synthpop/synthpop/outputfiles/Besancon_validation/besancon_Robin2003_l90.000_b0.000.h5\")\n",
    "data2 = pd.read_hdf(\"/u/mhuston/code/synthpop/synthpop/outputfiles/Besancon_validation/besancon_Robin2003_l12.170_b5.370.h5\")\n",
    "data3 = pd.read_hdf(\"/u/mhuston/code/synthpop/synthpop/outputfiles/Besancon_validation/besancon_Robin2003_l39.140_b8.530.h5\")\n",
    "catalogs = [data0,data1,data2,data3]"
   ]
  },
  {
   "cell_type": "markdown",
   "id": "92ad938a-77e1-4b44-b4fc-11a5a077cd01",
   "metadata": {},
   "source": [
    "## Let's look at stellar density"
   ]
  },
  {
   "cell_type": "code",
   "execution_count": null,
   "id": "439537fd-7506-43e8-8d20-a9bf034f8a3c",
   "metadata": {
    "scrolled": true
   },
   "outputs": [],
   "source": [
    "# Set up histogram bins, and points for density function plotting.\n",
    "dist_bins = np.arange(0.0,25.01, 0.5)\n",
    "dist_binc = dist_bins[:-1] + np.diff(dist_bins)/2\n",
    "dist_func_pts = np.arange(0.0,25.0001, 0.05)\n",
    "ccycle = ['#377eb8', '#ff7f00', '#4daf4a', '#f781bf', '#a65628', '#984ea3', '#999999', '#e41a1c', '#dede00']"
   ]
  },
  {
   "cell_type": "code",
   "execution_count": null,
   "id": "92eedecb-2b19-46ef-9cc3-70b81ee44458",
   "metadata": {},
   "outputs": [],
   "source": [
    "# Generic plotting code we can use for any population\n",
    "def plot_pop_dens(pops, poplabel=None, ylim=None, legend=True):\n",
    "    # Cycle through sight lines\n",
    "    for sl in range(len(model.parms.l_set)):\n",
    "        sum_catalog = np.zeros(len(dist_binc))\n",
    "        sum_func = np.zeros(len(dist_func_pts))\n",
    "        # Cycle through populations\n",
    "        for pop in pops:\n",
    "            # Bin catalog data - sum mass and divide by volume\n",
    "            data_sl = catalogs[sl]\n",
    "            l,b = model.parms.l_set[sl], model.parms.b_set[sl]\n",
    "            cone_rads = np.sqrt(model.parms.solid_angle[sl]/np.pi) *np.pi/180\n",
    "            cone_vol = np.pi * (cone_rads*dist_bins)**2 * dist_bins / 3\n",
    "            cone_chunks = np.diff(cone_vol)\n",
    "            binned_dists = pd.cut(data_sl.Dist, dist_bins)\n",
    "            if model.populations[pop].population_density.density_unit=='number':\n",
    "                sum_catalog += np.histogram(data_sl.where(data_sl['pop']==pop).Dist, bins=dist_bins)[0]\n",
    "            else:\n",
    "                sum_catalog += data_sl.where(data_sl['pop']==pop).groupby(binned_dists).Mass.sum()\n",
    "            # Get density function from model object\n",
    "            r,phi,z = model.populations[pop].coord_trans.dlb_to_rphiz(dist_func_pts, l,b)\n",
    "            sum_func += model.populations[pop].population_density.density(r,phi,z)\n",
    "        sl_lab = '('+str(l)+', '+str(b)+')'\n",
    "        # Plot the summed data\n",
    "        plt.step(dist_binc, sum_catalog/cone_chunks, where='mid', c=ccycle[sl])\n",
    "        plt.plot(dist_func_pts, sum_func, \n",
    "                     c=ccycle[sl], linewidth=5, alpha=0.25, label=sl_lab)\n",
    "    # Plot labeling/formatting\n",
    "    plt.yscale('log')\n",
    "    if model.populations[pop].population_density.density_unit=='number':\n",
    "        plt.ylabel(r'Stellar Density [*/kpc$^3$]')\n",
    "    else:\n",
    "        plt.ylabel(r'Stellar Density [M$_\\odot$/kpc$^3$]')\n",
    "    plt.xlabel('Distance [kpc]')\n",
    "    plt.xlim(0,25); plt.ylim(ylim)\n",
    "    if legend: plt.legend()\n",
    "    plt.title(poplabel, loc='left')\n",
    "    plt.tight_layout()\n",
    "    plt.savefig('validation_figures/'+poplabel.replace(' ','_')+'.pdf')"
   ]
  },
  {
   "cell_type": "code",
   "execution_count": null,
   "id": "ebb6c8a9-6214-432c-b00f-761711ae923d",
   "metadata": {},
   "outputs": [],
   "source": [
    "plot_pop_dens([0], poplabel='bulge', ylim=(1e4,3e10), legend=True)"
   ]
  },
  {
   "cell_type": "code",
   "execution_count": null,
   "id": "a47ad1cf-5b63-4e10-939e-6043a70fde47",
   "metadata": {},
   "outputs": [],
   "source": [
    "plot_pop_dens([1],poplabel='halo',ylim=(1e3,2e7), legend=False)"
   ]
  },
  {
   "cell_type": "code",
   "execution_count": null,
   "id": "76cf120b-cea6-406e-94ba-a5a572766e39",
   "metadata": {},
   "outputs": [],
   "source": [
    "plot_pop_dens([2], ylim=(1e4,1e8), poplabel='thick disk', legend=False)"
   ]
  },
  {
   "cell_type": "code",
   "execution_count": null,
   "id": "4c39863f-4b67-4fa0-83cd-ebce62aa478e",
   "metadata": {},
   "outputs": [],
   "source": [
    "plot_pop_dens([3,4,5,6,7,8,9], ylim=(1e4,5e8), poplabel='thin disk', legend=False)"
   ]
  },
  {
   "cell_type": "markdown",
   "id": "6005498f-12b3-4fee-87bf-32283106ff60",
   "metadata": {},
   "source": [
    "## Next: kinematics"
   ]
  },
  {
   "cell_type": "code",
   "execution_count": null,
   "id": "9f234c04-1155-4513-9533-43a2935570c8",
   "metadata": {},
   "outputs": [],
   "source": [
    "kine_func_pts = np.arange(0.0,22.1501, 0.05)"
   ]
  },
  {
   "cell_type": "code",
   "execution_count": null,
   "id": "2c7f6ee5-301f-47b0-a2ca-ff3000de3593",
   "metadata": {},
   "outputs": [],
   "source": [
    "def plot_kinematics_distr(sl, pop,ds=1):\n",
    "    l,b = model.parms.l_set[sl], model.parms.b_set[sl]\n",
    "    data = catalogs[sl][::ds]\n",
    "    x,y,z = model.populations[pop].coord_trans.dlb_to_xyz(kine_func_pts, l,b)\n",
    "    r,phi_rad,z2 = model.populations[pop].coord_trans.dlb_to_rphiz(kine_func_pts, l,b)\n",
    "    \n",
    "    u1,v1,w1 = model.populations[pop].kinematics.mean_galactic_uvw(x,y,z)\n",
    "    u1p = u1 + model.populations[pop].kinematics.sigma_u * np.exp((r-model.populations[pop].kinematics.sun.r)*model.populations[pop].kinematics.disp_grad/2)\n",
    "    v1p,w1p = v1 + model.populations[pop].kinematics.sigma_v, w1 + model.populations[pop].kinematics.sigma_w\n",
    "    u1m = u1 - model.populations[pop].kinematics.sigma_u * np.exp((r-model.populations[pop].kinematics.sun.r)*model.populations[pop].kinematics.disp_grad/2)\n",
    "    v1m,w1m = v1 - model.populations[pop].kinematics.sigma_v, w1 - model.populations[pop].kinematics.sigma_w\n",
    "    \n",
    "    u,v,w = u1 * np.cos(phi_rad) + v1 * np.sin(phi_rad), -u1 * np.sin(phi_rad) + v1 * np.cos(phi_rad), w1\n",
    "    u_p,v_p,w_p = u1p * np.cos(phi_rad) + v1p * np.sin(phi_rad), -u1p * np.sin(phi_rad) + v1p * np.cos(phi_rad), w1p\n",
    "    u_m,v_m,w_m = u1m * np.cos(phi_rad) + v1m * np.sin(phi_rad), -u1m * np.sin(phi_rad) + v1m * np.cos(phi_rad), w1m\n",
    "    \n",
    "    plt.subplots(nrows=1,ncols=3,figsize=(15,5))\n",
    "    plt.subplot(131)\n",
    "    plt.plot(data.where(data['pop']==pop).Dist, np.abs(data.where(data['pop']==pop)['V']), marker='.', markersize=0.2, linestyle='none', c='k')\n",
    "    plt.plot(kine_func_pts, np.abs(v), c='c', label='Function mean')\n",
    "    plt.plot(kine_func_pts, np.abs(v_p), c='c', linestyle='--', label=r'Function $\\pm$ 1-sigma')\n",
    "    plt.plot(kine_func_pts, np.abs(v_m), c='c', linestyle='--')\n",
    "    plt.ylabel('|V| (km/s)'); plt.xlabel('Distance (kpc)')\n",
    "    plt.ylim(100,400)\n",
    "    plt.xlim(0,25)\n",
    "    \n",
    "    plt.subplot(132)\n",
    "    plt.plot(data.where(data['pop']==pop).Dist, data.where(data['pop']==pop)['U'], marker='.', markersize=0.2, linestyle='none', c='k')\n",
    "    plt.plot(kine_func_pts, u, c='c', label='Function mean')\n",
    "    plt.plot(kine_func_pts, u_p, c='c', linestyle='--', label=r'Function $\\pm$ 1-sigma')\n",
    "    plt.plot(kine_func_pts, u_m, c='c', linestyle='--')\n",
    "    plt.ylabel('U (km/s)'); plt.xlabel('Distance (kpc)')\n",
    "    plt.ylim(-250,250)\n",
    "    plt.xlim(0,25)\n",
    "    \n",
    "    plt.subplot(133)\n",
    "    plt.plot(data.where(data['pop']==pop).Dist, data.where(data['pop']==pop)['W'], marker='.', markersize=0.2, linestyle='none', c='k')\n",
    "    plt.plot(kine_func_pts, w, c='c', label='Function mean')\n",
    "    plt.plot(kine_func_pts, w_p, c='c', linestyle='--', label=r'Function $\\pm$ 1$\\sigma$')\n",
    "    plt.plot(kine_func_pts, w_m, c='c', linestyle='--')\n",
    "    plt.ylabel('W (km/s)'); plt.xlabel('Distance (kpc)')\n",
    "    plt.legend()\n",
    "    plt.ylim(-110,110)\n",
    "    plt.xlim(0,25)\n",
    "    \n",
    "    plt.tight_layout()\n",
    "    plt.savefig('validation_figures/kinematics_sl'+str(sl)+'_pop'+str(pop)+'_ds'+str(ds)+'.pdf')"
   ]
  },
  {
   "cell_type": "code",
   "execution_count": null,
   "id": "77b20a5c-6093-482a-9173-b1327563c89c",
   "metadata": {},
   "outputs": [],
   "source": [
    "plot_kinematics_distr(0,9,ds=2)"
   ]
  },
  {
   "cell_type": "code",
   "execution_count": null,
   "id": "8baa82eb-2bee-470f-a411-ac1ff9f6171f",
   "metadata": {},
   "outputs": [],
   "source": []
  }
 ],
 "metadata": {
  "kernelspec": {
   "display_name": "Python [conda env:astro-synthpop] *",
   "language": "python",
   "name": "conda-env-astro-synthpop-py"
  },
  "language_info": {
   "codemirror_mode": {
    "name": "ipython",
    "version": 3
   },
   "file_extension": ".py",
   "mimetype": "text/x-python",
   "name": "python",
   "nbconvert_exporter": "python",
   "pygments_lexer": "ipython3",
   "version": "3.11.0"
  }
 },
 "nbformat": 4,
 "nbformat_minor": 5
}
